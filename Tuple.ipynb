{
  "nbformat": 4,
  "nbformat_minor": 0,
  "metadata": {
    "colab": {
      "name": "Tuple.ipynb",
      "provenance": [],
      "authorship_tag": "ABX9TyO/689A6UB5gVZ6rYFWRFkm",
      "include_colab_link": true
    },
    "kernelspec": {
      "name": "python3",
      "display_name": "Python 3"
    },
    "language_info": {
      "name": "python"
    }
  },
  "cells": [
    {
      "cell_type": "markdown",
      "metadata": {
        "id": "view-in-github",
        "colab_type": "text"
      },
      "source": [
        "<a href=\"https://colab.research.google.com/github/G-Vangala/C/blob/main/Tuple.ipynb\" target=\"_parent\"><img src=\"https://colab.research.google.com/assets/colab-badge.svg\" alt=\"Open In Colab\"/></a>"
      ]
    },
    {
      "cell_type": "markdown",
      "source": [
        "Change tuple value"
      ],
      "metadata": {
        "id": "rTQN71N5RHCm"
      }
    },
    {
      "cell_type": "code",
      "source": [
        "a=(\"Schumacher\",\"Leclerc\",\"Hamilton\",\"Sainz\")\n",
        "b=list(a)\n",
        "b[2]=\"Vettel\"\n",
        "a=tuple(b)\n",
        "print(a)"
      ],
      "metadata": {
        "colab": {
          "base_uri": "https://localhost:8080/"
        },
        "id": "ekyKZD6rRLle",
        "outputId": "8053118d-8a50-4ed1-cabd-12497e9019a7"
      },
      "execution_count": 1,
      "outputs": [
        {
          "output_type": "stream",
          "name": "stdout",
          "text": [
            "('Schumacher', 'Leclerc', 'Vettel', 'Sainz')\n"
          ]
        }
      ]
    },
    {
      "cell_type": "markdown",
      "source": [
        "Add Value"
      ],
      "metadata": {
        "id": "IvtAoa3VSNVI"
      }
    },
    {
      "cell_type": "code",
      "source": [
        "a=(\"Schumacher\",\"Leclerc\",\"Vettel\",\"Sainz\")\n",
        "b=list(a)\n",
        "b.append(\"Raikonnen\")\n",
        "a=tuple(b)\n",
        "print(a)"
      ],
      "metadata": {
        "colab": {
          "base_uri": "https://localhost:8080/"
        },
        "id": "Y9xdpXBiSPFe",
        "outputId": "894f530e-2681-4135-ef20-4de15bea7ce7"
      },
      "execution_count": 2,
      "outputs": [
        {
          "output_type": "stream",
          "name": "stdout",
          "text": [
            "('Schumacher', 'Leclerc', 'Vettel', 'Sainz', 'Raikonnen')\n"
          ]
        }
      ]
    },
    {
      "cell_type": "markdown",
      "source": [
        "Unpacking"
      ],
      "metadata": {
        "id": "UGTQHAezTsNv"
      }
    },
    {
      "cell_type": "code",
      "source": [
        "racers=(\"Leclerc\",\"Sainz\",\"Verstappen\",\"Hamilton\")\n",
        "(*Ferrari,RBR,Mercedes)=racers\n",
        "print(Ferrari)\n",
        "print(RBR)\n",
        "print(Mercedes)\n",
        "for a in racers:\n",
        "  print(a)"
      ],
      "metadata": {
        "colab": {
          "base_uri": "https://localhost:8080/"
        },
        "id": "3uZO5T_uTuWt",
        "outputId": "0890d627-db41-44fe-b5a6-9450388415f5"
      },
      "execution_count": 7,
      "outputs": [
        {
          "output_type": "stream",
          "name": "stdout",
          "text": [
            "['Leclerc', 'Sainz']\n",
            "Verstappen\n",
            "Hamilton\n",
            "Leclerc\n",
            "Sainz\n",
            "Verstappen\n",
            "Hamilton\n"
          ]
        }
      ]
    }
  ]
}