{
  "nbformat": 4,
  "nbformat_minor": 0,
  "metadata": {
    "colab": {
      "name": "Practice1.ipynb",
      "provenance": [],
      "collapsed_sections": [],
      "authorship_tag": "ABX9TyP3TkHwkW07igG1JInDR4Rb",
      "include_colab_link": true
    },
    "kernelspec": {
      "name": "python3",
      "display_name": "Python 3"
    },
    "language_info": {
      "name": "python"
    }
  },
  "cells": [
    {
      "cell_type": "markdown",
      "metadata": {
        "id": "view-in-github",
        "colab_type": "text"
      },
      "source": [
        "<a href=\"https://colab.research.google.com/github/G-Vangala/C/blob/main/Practice1.ipynb\" target=\"_parent\"><img src=\"https://colab.research.google.com/assets/colab-badge.svg\" alt=\"Open In Colab\"/></a>"
      ]
    },
    {
      "cell_type": "markdown",
      "source": [
        "1.Write a program to print prime numbers in the given range by using function(25 to 50)."
      ],
      "metadata": {
        "id": "2TX05tsYaRo1"
      }
    },
    {
      "cell_type": "code",
      "source": [
        "def prime(a,b):\n",
        "  for i in range(a,b+1):\n",
        "    k=0\n",
        "  for j in range(2,i):\n",
        "    if a%b==0:\n",
        "      k+=1\n",
        "    if k==0:\n",
        "      print(i)\n",
        "a=int(input())\n",
        "b=int(input())\n",
        "prime(a,b)"
      ],
      "metadata": {
        "id": "n0W_530sdOsE"
      },
      "execution_count": null,
      "outputs": []
    },
    {
      "cell_type": "markdown",
      "source": [
        "2.Write a program to read any month in integer and display days for that month."
      ],
      "metadata": {
        "id": "IYuMkYSKaiN7"
      }
    },
    {
      "cell_type": "code",
      "source": [
        "n=int(input(\"Enter a month \"))\n",
        "if n==1 or n==3 or n==5 or n==7 or n==8 or n==10 or n==12:\n",
        "  print(\"31 days\")\n",
        "elif n==4 or n==6 or n==9 or n==11:\n",
        "  print(\"30 days\")\n",
        "elif n==2:\n",
        "  print(\"28 or 29 days\")\n",
        "else:\n",
        "  print(\"Please enter correct choice.\")"
      ],
      "metadata": {
        "colab": {
          "base_uri": "https://localhost:8080/"
        },
        "id": "EnolAPLveWL8",
        "outputId": "3be8a68b-f483-46c7-d2be-f4ad72d3c3a3"
      },
      "execution_count": 19,
      "outputs": [
        {
          "output_type": "stream",
          "name": "stdout",
          "text": [
            "Enter a month 2\n",
            "28 or 29 days\n"
          ]
        }
      ]
    },
    {
      "cell_type": "markdown",
      "source": [
        "3.Write a program to print even length words in a string."
      ],
      "metadata": {
        "id": "PxaIyEMwa5TE"
      }
    },
    {
      "cell_type": "code",
      "source": [
        "s=\"This is a python class\"\n",
        "x=s.split(' ')\n",
        "for i in x:\n",
        "  if len(i)%2==0:\n",
        "    print(i,end=\" \")"
      ],
      "metadata": {
        "id": "g1SAH_pTfawk",
        "colab": {
          "base_uri": "https://localhost:8080/"
        },
        "outputId": "18964cd7-6a8b-4724-80ea-4e3ac96f074d"
      },
      "execution_count": 29,
      "outputs": [
        {
          "output_type": "stream",
          "name": "stdout",
          "text": [
            "This is python "
          ]
        }
      ]
    },
    {
      "cell_type": "markdown",
      "source": [
        "4.Write a program to capitalize the first and last letter of each word."
      ],
      "metadata": {
        "id": "0l1veP8AbkcU"
      }
    },
    {
      "cell_type": "code",
      "source": [
        "s=input()\n",
        "x=s.split(' ')\n",
        "a=\"\"\n",
        "for i in x:\n",
        "  b=i.capitalize()\n",
        "  y=i[-1].capitalize()\n",
        "  a=b[0:-1]+y\n",
        "print(a,end=' ')\n"
      ],
      "metadata": {
        "id": "Zg8iNbR_twTb"
      },
      "execution_count": null,
      "outputs": []
    },
    {
      "cell_type": "markdown",
      "source": [
        "5.Write a program to read a string from the user and display first character of each word as a captial letter."
      ],
      "metadata": {
        "id": "dtxf7L_RbuL0"
      }
    },
    {
      "cell_type": "code",
      "source": [
        "s=input()\n",
        "x=s.title()\n",
        "print(x)"
      ],
      "metadata": {
        "colab": {
          "base_uri": "https://localhost:8080/"
        },
        "id": "VqH-aC7rgBDM",
        "outputId": "06c42f52-4e5f-4d75-8b0e-991bb87e1a23"
      },
      "execution_count": null,
      "outputs": [
        {
          "output_type": "stream",
          "name": "stdout",
          "text": [
            "it's not who I am underneath but what I do that defines me\n",
            "It'S Not Who I Am Underneath But What I Do That Defines Me\n"
          ]
        }
      ]
    },
    {
      "cell_type": "markdown",
      "source": [
        "6.Write a program to convert a list of multiple integers into single integers."
      ],
      "metadata": {
        "id": "eCFT1aa5cPH0"
      }
    },
    {
      "cell_type": "code",
      "source": [
        "a=[11,33,50]\n",
        "b=\"\"\n",
        "for i in a:\n",
        "  b+=str(i)\n",
        "print(b)"
      ],
      "metadata": {
        "colab": {
          "base_uri": "https://localhost:8080/"
        },
        "id": "bPCegQgnpg-b",
        "outputId": "181d644e-5564-47e0-f603-060f28fb1679"
      },
      "execution_count": 33,
      "outputs": [
        {
          "output_type": "stream",
          "name": "stdout",
          "text": [
            "113350\n"
          ]
        }
      ]
    }
  ]
}