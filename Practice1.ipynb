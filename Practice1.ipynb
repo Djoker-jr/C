{
  "nbformat": 4,
  "nbformat_minor": 0,
  "metadata": {
    "colab": {
      "name": "Practice1.ipynb",
      "provenance": [],
      "collapsed_sections": [],
      "authorship_tag": "ABX9TyP7BRPJ+r2GbI2zhCZjJT40",
      "include_colab_link": true
    },
    "kernelspec": {
      "name": "python3",
      "display_name": "Python 3"
    },
    "language_info": {
      "name": "python"
    }
  },
  "cells": [
    {
      "cell_type": "markdown",
      "metadata": {
        "id": "view-in-github",
        "colab_type": "text"
      },
      "source": [
        "<a href=\"https://colab.research.google.com/github/G-Vangala/C/blob/main/Practice1.ipynb\" target=\"_parent\"><img src=\"https://colab.research.google.com/assets/colab-badge.svg\" alt=\"Open In Colab\"/></a>"
      ]
    },
    {
      "cell_type": "markdown",
      "source": [
        "1.Write a program to print prime numbers in the given range by using function(25 to 50)."
      ],
      "metadata": {
        "id": "2TX05tsYaRo1"
      }
    },
    {
      "cell_type": "code",
      "source": [
        "def prime(a,b):\n",
        "  for i in range(a,b+1):\n",
        "    k=0\n",
        "  for j in range(2,i):\n",
        "    if a%b==0:\n",
        "      k+=1\n",
        "    if k==0:\n",
        "      print(i)\n",
        "a=int(input())\n",
        "b=int(input())\n",
        "prime(a,b)"
      ],
      "metadata": {
        "id": "n0W_530sdOsE"
      },
      "execution_count": null,
      "outputs": []
    },
    {
      "cell_type": "markdown",
      "source": [
        "2.Write a program to read any month in integer and display days for that month."
      ],
      "metadata": {
        "id": "IYuMkYSKaiN7"
      }
    },
    {
      "cell_type": "code",
      "source": [
        "n=int(input(\"Enter a month \"))\n",
        "if n==1 or n==3 or n==5 or n==7 or n==8 or n==10 or n==12:\n",
        "  print(\"31 days\")\n",
        "elif n==4 or n==6 or n==9 or n==11:\n",
        "  print(\"30 days\")\n",
        "elif n==2:\n",
        "  print(\"28 or 29 days\")\n",
        "else:\n",
        "  print(\"Please enter correct choice.\")"
      ],
      "metadata": {
        "colab": {
          "base_uri": "https://localhost:8080/"
        },
        "id": "EnolAPLveWL8",
        "outputId": "3be8a68b-f483-46c7-d2be-f4ad72d3c3a3"
      },
      "execution_count": null,
      "outputs": [
        {
          "output_type": "stream",
          "name": "stdout",
          "text": [
            "Enter a month 2\n",
            "28 or 29 days\n"
          ]
        }
      ]
    },
    {
      "cell_type": "markdown",
      "source": [
        "3.Write a program to print even length words in a string."
      ],
      "metadata": {
        "id": "PxaIyEMwa5TE"
      }
    },
    {
      "cell_type": "code",
      "source": [
        "s=\"This is a python class\"\n",
        "x=s.split(' ')\n",
        "for i in x:\n",
        "  if len(i)%2==0:\n",
        "    print(i,end=\" \")"
      ],
      "metadata": {
        "id": "g1SAH_pTfawk",
        "colab": {
          "base_uri": "https://localhost:8080/"
        },
        "outputId": "18964cd7-6a8b-4724-80ea-4e3ac96f074d"
      },
      "execution_count": null,
      "outputs": [
        {
          "output_type": "stream",
          "name": "stdout",
          "text": [
            "This is python "
          ]
        }
      ]
    },
    {
      "cell_type": "markdown",
      "source": [
        "4.Write a program to capitalize the first and last letter of each word."
      ],
      "metadata": {
        "id": "0l1veP8AbkcU"
      }
    },
    {
      "cell_type": "code",
      "source": [
        "s=input()\n",
        "x=s.split(' ')\n",
        "a=\"\"\n",
        "for i in x:\n",
        "  b=i.capitalize()\n",
        "  y=i[-1].capitalize()\n",
        "  a=b[0:-1]+y\n",
        "print(a,end=\" \")\n"
      ],
      "metadata": {
        "colab": {
          "base_uri": "https://localhost:8080/"
        },
        "id": "Zg8iNbR_twTb",
        "outputId": "4f4e05ec-ffdc-432d-ae53-fa2d33eb91f8"
      },
      "execution_count": null,
      "outputs": [
        {
          "output_type": "stream",
          "name": "stdout",
          "text": [
            "how are you\n",
            "YoU "
          ]
        }
      ]
    },
    {
      "cell_type": "markdown",
      "source": [
        "5.Write a program to read a string from the user and display first character of each word as a captial letter."
      ],
      "metadata": {
        "id": "dtxf7L_RbuL0"
      }
    },
    {
      "cell_type": "code",
      "source": [
        "s=input()\n",
        "x=s.title()\n",
        "print(x)"
      ],
      "metadata": {
        "colab": {
          "base_uri": "https://localhost:8080/"
        },
        "id": "VqH-aC7rgBDM",
        "outputId": "06c42f52-4e5f-4d75-8b0e-991bb87e1a23"
      },
      "execution_count": null,
      "outputs": [
        {
          "output_type": "stream",
          "name": "stdout",
          "text": [
            "it's not who I am underneath but what I do that defines me\n",
            "It'S Not Who I Am Underneath But What I Do That Defines Me\n"
          ]
        }
      ]
    },
    {
      "cell_type": "markdown",
      "source": [
        "6.Write a program to convert a list of multiple integers into single integers."
      ],
      "metadata": {
        "id": "eCFT1aa5cPH0"
      }
    },
    {
      "cell_type": "code",
      "source": [
        "a=[11,33,50]\n",
        "b=\"\"\n",
        "for i in a:\n",
        "  b+=str(i)\n",
        "print(b)"
      ],
      "metadata": {
        "colab": {
          "base_uri": "https://localhost:8080/"
        },
        "id": "bPCegQgnpg-b",
        "outputId": "181d644e-5564-47e0-f603-060f28fb1679"
      },
      "execution_count": null,
      "outputs": [
        {
          "output_type": "stream",
          "name": "stdout",
          "text": [
            "113350\n"
          ]
        }
      ]
    },
    {
      "cell_type": "markdown",
      "source": [
        "7.Write a program to find the power of a number using recursion."
      ],
      "metadata": {
        "id": "SNqprPoFJ1-K"
      }
    },
    {
      "cell_type": "markdown",
      "source": [
        "8.Write a program to sort tuples by total digits\n",
        "Input: list=[(3,4,6,723),(1,2),(134,234,34)]\n",
        "Output: [(1,2),(3,4,6,723),(134,234,34)]"
      ],
      "metadata": {
        "id": "H3lw3fBBKAOK"
      }
    },
    {
      "cell_type": "markdown",
      "source": [
        "9.Take 5 subject marks from user and display the student's grade.\n",
        "Condition: If avg is 90-100(O)\n",
        "80-100(A+)\n",
        "70-80(A)\n",
        ".\n",
        ".\n",
        ".\n",
        "below 40(Fail)"
      ],
      "metadata": {
        "id": "2J8m8FRCKwxD"
      }
    },
    {
      "cell_type": "code",
      "source": [
        "m1=int(input())\n",
        "m2=int(input())\n",
        "m3=int(input())\n",
        "m4=int(input())\n",
        "m5=int(input())\n",
        "avg=(m1+m2+m3+m4+m5)/5\n",
        "if avg>=90:\n",
        "  print(\"O\")\n",
        "elif avg>=80 and avg<90:\n",
        "  print(\"A+\")\n",
        "elif avg>=70 and avg<80:\n",
        "  print(\"A\")\n",
        "elif avg>=60 and avg<70:\n",
        "  print(\"B+\")\n",
        "elif avg>=50 and avg<60:\n",
        "  print(\"B\")\n",
        "elif avg>=40 and avg<50:\n",
        "  print(\"C+\")\n",
        "else:\n",
        "  print(\"D\")"
      ],
      "metadata": {
        "colab": {
          "base_uri": "https://localhost:8080/"
        },
        "id": "Zzqcb-dcTJ3c",
        "outputId": "4bed86eb-df39-486c-d198-a1e82b6c04ff"
      },
      "execution_count": 1,
      "outputs": [
        {
          "output_type": "stream",
          "name": "stdout",
          "text": [
            "100\n",
            "24\n",
            "12\n",
            "100\n",
            "98\n",
            "B+\n"
          ]
        }
      ]
    },
    {
      "cell_type": "markdown",
      "source": [
        "10.Write a program that prints one if all the three given numbers are in ascending order. Otherwise, print 0."
      ],
      "metadata": {
        "id": "eteF8XpALS-y"
      }
    },
    {
      "cell_type": "code",
      "source": [
        "n1=int(input())\n",
        "n2=int(input())\n",
        "n3=int(input())\n",
        "if n1<n2 and n2<n3:\n",
        "  print(\"1\")\n",
        "else:\n",
        "  print(\"0\")"
      ],
      "metadata": {
        "colab": {
          "base_uri": "https://localhost:8080/"
        },
        "id": "0NIvHswmUX_t",
        "outputId": "f4e56ab4-261f-437b-b40e-8e0e3010783b"
      },
      "execution_count": 4,
      "outputs": [
        {
          "output_type": "stream",
          "name": "stdout",
          "text": [
            "6\n",
            "6\n",
            "5\n",
            "0\n"
          ]
        }
      ]
    },
    {
      "cell_type": "markdown",
      "source": [
        "11.Check if the given number is perfect or not."
      ],
      "metadata": {
        "id": "cAe6GoFCLvXx"
      }
    },
    {
      "cell_type": "markdown",
      "source": [
        "12.Check if the given string is palindrome or not."
      ],
      "metadata": {
        "id": "8c0ac0vrMEOK"
      }
    },
    {
      "cell_type": "code",
      "source": [
        ""
      ],
      "metadata": {
        "id": "tJIUt7wKaAQF"
      },
      "execution_count": null,
      "outputs": []
    },
    {
      "cell_type": "markdown",
      "source": [
        "13.Find the GCD of 2 numbers with and without recursion.\n",
        "Input: 5,3"
      ],
      "metadata": {
        "id": "ZKZ55GJFMdu7"
      }
    },
    {
      "cell_type": "markdown",
      "source": [
        "14.Print sum of even digits in a given number.\n",
        "Input: 1243"
      ],
      "metadata": {
        "id": "QexpxvZuMwli"
      }
    },
    {
      "cell_type": "code",
      "source": [
        "n=input()\n",
        "sum=0\n",
        "for i in n:\n",
        "  i=int(i)\n",
        "  if i%2==0:\n",
        "    sum=sum+i\n",
        "print(sum)"
      ],
      "metadata": {
        "colab": {
          "base_uri": "https://localhost:8080/"
        },
        "id": "KNdocwGgUxZk",
        "outputId": "248e6723-99f0-4f2d-da8b-6ee109485762"
      },
      "execution_count": 5,
      "outputs": [
        {
          "output_type": "stream",
          "name": "stdout",
          "text": [
            "1243\n",
            "6\n"
          ]
        }
      ]
    },
    {
      "cell_type": "markdown",
      "source": [
        "15.Calculate the sum of squares of digits of a number given by the user."
      ],
      "metadata": {
        "id": "hdc6fuhVM_Xy"
      }
    },
    {
      "cell_type": "code",
      "source": [
        "n=input()\n",
        "sum=0\n",
        "for i in n:\n",
        "  i=int(i)\n",
        "  sum=sum+(i*i)\n",
        "print(sum)"
      ],
      "metadata": {
        "colab": {
          "base_uri": "https://localhost:8080/"
        },
        "id": "8YBMKoaWVHRj",
        "outputId": "cafc3d72-b5fa-4a08-b585-1333d0dd615d"
      },
      "execution_count": 6,
      "outputs": [
        {
          "output_type": "stream",
          "name": "stdout",
          "text": [
            "22\n",
            "8\n"
          ]
        }
      ]
    },
    {
      "cell_type": "markdown",
      "source": [
        "16.Given a string 's'.\n",
        "s=\"abcdefcba\"\n",
        "print(countfrontbackmatches)"
      ],
      "metadata": {
        "id": "GKksOQV2NdQq"
      }
    },
    {
      "cell_type": "markdown",
      "source": [
        "17.[1,2,2,3,3,3,4,4,4,4,...]"
      ],
      "metadata": {
        "id": "QFCflU1oOAv6"
      }
    },
    {
      "cell_type": "markdown",
      "source": [
        "18.Print the no. of vowels and consonants in a string."
      ],
      "metadata": {
        "id": "xbTWE-vXO8JS"
      }
    },
    {
      "cell_type": "code",
      "source": [
        "s=input()\n",
        "s=s.lower()\n",
        "for i in s:\n",
        "  if i=='a' or i=='e' or i=='i' or i=='o' or i=='u':\n",
        "    print(\"Vowels = \" + i)\n",
        "  else:\n",
        "    print(\"Consonants = \" + i)"
      ],
      "metadata": {
        "id": "raBNhHccViqU"
      },
      "execution_count": null,
      "outputs": []
    },
    {
      "cell_type": "markdown",
      "source": [
        "19.Given 2 integers a and b. If a is less than b, print all the integers between a and b in ascending order. Else, print in descending order."
      ],
      "metadata": {
        "id": "rvooCrdoPiJT"
      }
    },
    {
      "cell_type": "markdown",
      "source": [
        "20.Program to print the biggest value among 3 numbers."
      ],
      "metadata": {
        "id": "PJTvBcWrP5kD"
      }
    },
    {
      "cell_type": "code",
      "source": [
        "a=int(input())\n",
        "b=int(input())\n",
        "c=int(input()\n",
        "if a>b and c:"
      ],
      "metadata": {
        "colab": {
          "base_uri": "https://localhost:8080/",
          "height": 130
        },
        "id": "olpH57CZWLG8",
        "outputId": "4ec411b1-9c7c-43d6-e4b3-c541277c4ab7"
      },
      "execution_count": 9,
      "outputs": [
        {
          "output_type": "error",
          "ename": "SyntaxError",
          "evalue": "ignored",
          "traceback": [
            "\u001b[0;36m  File \u001b[0;32m\"<ipython-input-9-c013d2f426ae>\"\u001b[0;36m, line \u001b[0;32m4\u001b[0m\n\u001b[0;31m    if b>a and b>c:\u001b[0m\n\u001b[0m                  ^\u001b[0m\n\u001b[0;31mSyntaxError\u001b[0m\u001b[0;31m:\u001b[0m invalid syntax\n"
          ]
        }
      ]
    },
    {
      "cell_type": "markdown",
      "source": [
        "21.Count the number of strings where the string length is 2 or more and the first and last characters are same from the given list of strings."
      ],
      "metadata": {
        "id": "E-l1Jwt1QCCn"
      }
    },
    {
      "cell_type": "markdown",
      "source": [
        "22.There is a walking track of 3 km. Calculate the total distance he travels in meters. If the distance is less than 40,000 km, give a message as \"Need to walk more.\" More than 40,000= \"You did a great job.\""
      ],
      "metadata": {
        "id": "tQm6urLVQxyD"
      }
    },
    {
      "cell_type": "markdown",
      "source": [
        "23.Given a list of student names in L and a character. Display the names of students who fist letter is given in character."
      ],
      "metadata": {
        "id": "Iwo9YKCJRqgq"
      }
    },
    {
      "cell_type": "markdown",
      "source": [
        "24.Given a list of city names, print the city names whose length is greater than the given lengths."
      ],
      "metadata": {
        "id": "KxCnjCtDStXT"
      }
    }
  ]
}