{
  "nbformat": 4,
  "nbformat_minor": 0,
  "metadata": {
    "colab": {
      "name": "Quiz1.ipynb",
      "provenance": [],
      "authorship_tag": "ABX9TyO2KhJOANUHqc5cS4q2G95h",
      "include_colab_link": true
    },
    "kernelspec": {
      "name": "python3",
      "display_name": "Python 3"
    },
    "language_info": {
      "name": "python"
    }
  },
  "cells": [
    {
      "cell_type": "markdown",
      "metadata": {
        "id": "view-in-github",
        "colab_type": "text"
      },
      "source": [
        "<a href=\"https://colab.research.google.com/github/G-Vangala/C/blob/main/Quiz1.ipynb\" target=\"_parent\"><img src=\"https://colab.research.google.com/assets/colab-badge.svg\" alt=\"Open In Colab\"/></a>"
      ]
    },
    {
      "cell_type": "markdown",
      "source": [
        "1. Swap 2 numbers"
      ],
      "metadata": {
        "id": "0aRF5UyWhhkz"
      }
    },
    {
      "cell_type": "code",
      "source": [
        "a=\"2\"\n",
        "b=\"3\"\n",
        "c=a\n",
        "a=b\n",
        "b=c\n",
        "print(\"Result =\" + \" \" + a + \" \" + b)"
      ],
      "metadata": {
        "colab": {
          "base_uri": "https://localhost:8080/"
        },
        "id": "XOwjNCa2hmMF",
        "outputId": "b94397ac-814f-45eb-fabf-c2ec6c43d25e"
      },
      "execution_count": 1,
      "outputs": [
        {
          "output_type": "stream",
          "name": "stdout",
          "text": [
            "Result = 3 2\n"
          ]
        }
      ]
    },
    {
      "cell_type": "markdown",
      "source": [
        "2. Square root of  a number"
      ],
      "metadata": {
        "id": "65NAWIXSh927"
      }
    },
    {
      "cell_type": "code",
      "source": [
        "import math\n",
        "a=4\n",
        "b=math.sqrt(a)\n",
        "print(b)"
      ],
      "metadata": {
        "colab": {
          "base_uri": "https://localhost:8080/"
        },
        "id": "HH8tHp68iBCk",
        "outputId": "4a4a2ba9-dabb-426b-b453-62decf0188e2"
      },
      "execution_count": 2,
      "outputs": [
        {
          "output_type": "stream",
          "name": "stdout",
          "text": [
            "2.0\n"
          ]
        }
      ]
    },
    {
      "cell_type": "markdown",
      "source": [
        "3. Largest of 3 numbers"
      ],
      "metadata": {
        "id": "taONqFqciJFK"
      }
    },
    {
      "cell_type": "code",
      "source": [
        "a=5\n",
        "b=3\n",
        "c=2\n",
        "if a>b and a>c:\n",
        "  print(a)\n",
        "elif b>a and b>c:\n",
        "  print(b)\n",
        "else:\n",
        "  print(c)"
      ],
      "metadata": {
        "colab": {
          "base_uri": "https://localhost:8080/"
        },
        "id": "M9x8_q8liOaT",
        "outputId": "b937658f-05bc-4a2c-917f-fe7ef7ce37ca"
      },
      "execution_count": 3,
      "outputs": [
        {
          "output_type": "stream",
          "name": "stdout",
          "text": [
            "5\n"
          ]
        }
      ]
    },
    {
      "cell_type": "markdown",
      "source": [
        "4. Add black in the 4th place of: Rainbow = ['Red' , 'Orange' , 'Yellow' , 'Green']"
      ],
      "metadata": {
        "id": "Iw4GjDPvioEk"
      }
    },
    {
      "cell_type": "code",
      "source": [
        "a=\"Red\"\n",
        "b=\"Orange\"\n",
        "c=\"Yellow\"\n",
        "d=\"Green\"\n",
        "e=\"Black\"\n",
        "print(\"Rainbow = \" + \"[\" + \"'\" + a + \"'\" + \",\" + \" \" + \"'\" + b + \"'\" +  \",\" + \" \" + \"'\" + c + \"'\" + \",\" + \" \" + \"'\" + e + \"'\" + \",\" + \" \" + \"'\" + d + \"'\" + \"]\")"
      ],
      "metadata": {
        "colab": {
          "base_uri": "https://localhost:8080/"
        },
        "id": "r-CcGRySjIYk",
        "outputId": "aef26e77-c7c7-4748-99c7-74b742f2a642"
      },
      "execution_count": 4,
      "outputs": [
        {
          "output_type": "stream",
          "name": "stdout",
          "text": [
            "Rainbow = ['Red', 'Orange', 'Yellow', 'Black', 'Green']\n"
          ]
        }
      ]
    }
  ]
}