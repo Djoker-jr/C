{
  "nbformat": 4,
  "nbformat_minor": 0,
  "metadata": {
    "colab": {
      "name": "Functions.ipynb",
      "provenance": [],
      "authorship_tag": "ABX9TyP4ua/ZB9skfUxBSAJhusGD",
      "include_colab_link": true
    },
    "kernelspec": {
      "name": "python3",
      "display_name": "Python 3"
    },
    "language_info": {
      "name": "python"
    }
  },
  "cells": [
    {
      "cell_type": "markdown",
      "metadata": {
        "id": "view-in-github",
        "colab_type": "text"
      },
      "source": [
        "<a href=\"https://colab.research.google.com/github/G-Vangala/C/blob/main/Functions.ipynb\" target=\"_parent\"><img src=\"https://colab.research.google.com/assets/colab-badge.svg\" alt=\"Open In Colab\"/></a>"
      ]
    },
    {
      "cell_type": "code",
      "execution_count": 17,
      "metadata": {
        "colab": {
          "base_uri": "https://localhost:8080/"
        },
        "id": "Dz3-evpGHzHr",
        "outputId": "9ecad82f-090b-4d6f-855a-8077dc9944c7"
      },
      "outputs": [
        {
          "output_type": "stream",
          "name": "stdout",
          "text": [
            "BMW 330i Blue\n"
          ]
        }
      ],
      "source": [
        "def car(brand,model,color):\n",
        "  print(brand,model,color)\n",
        "car(\"BMW\",\"330i\", \"Blue\")\n"
      ]
    },
    {
      "cell_type": "code",
      "source": [
        "def car(brand):\n",
        "  print(brand + \" is the best.\")\n",
        "car(\"BMW\")\n",
        "car(\"Ferrari\")"
      ],
      "metadata": {
        "colab": {
          "base_uri": "https://localhost:8080/"
        },
        "id": "Dbq6zwfAPM5K",
        "outputId": "88c6b313-5805-4c8a-8b8a-c5bc77e0bf1f"
      },
      "execution_count": 22,
      "outputs": [
        {
          "output_type": "stream",
          "name": "stdout",
          "text": [
            "BMW is the best.\n",
            "Ferrari is the best.\n"
          ]
        }
      ]
    },
    {
      "cell_type": "code",
      "source": [
        "def a(brand):\n",
        "  for i in brand:\n",
        "    print(i)\n",
        "model=[\"DB5\", \"DBX\", \"Vantage\"]\n",
        "a(model)"
      ],
      "metadata": {
        "colab": {
          "base_uri": "https://localhost:8080/"
        },
        "id": "Zat2Y1ydQWAZ",
        "outputId": "75e3c979-3d54-4f3b-989c-c26969f3b634"
      },
      "execution_count": 23,
      "outputs": [
        {
          "output_type": "stream",
          "name": "stdout",
          "text": [
            "DB5\n",
            "DBX\n",
            "Vantage\n"
          ]
        }
      ]
    },
    {
      "cell_type": "code",
      "source": [
        "def table(n):\n",
        "    return 5*n\n",
        "print(table(1))\n",
        "print(table(2))\n",
        "print(table(3))\n",
        "print(table(4))\n",
        "print(table(5))"
      ],
      "metadata": {
        "colab": {
          "base_uri": "https://localhost:8080/"
        },
        "id": "1IKpP_6FQu-4",
        "outputId": "cfd531f6-f1f5-49cb-d23e-fcd52dbfab2d"
      },
      "execution_count": 27,
      "outputs": [
        {
          "output_type": "stream",
          "name": "stdout",
          "text": [
            "5\n",
            "10\n",
            "15\n",
            "20\n",
            "25\n"
          ]
        }
      ]
    },
    {
      "cell_type": "code",
      "source": [
        "def car(age,name):\n",
        "  print(age,name)\n",
        "car(age=int(input()),name=input())\n"
      ],
      "metadata": {
        "colab": {
          "base_uri": "https://localhost:8080/"
        },
        "id": "AKRDNWxsTLuq",
        "outputId": "edd53dd1-1d1f-4713-c1a5-384c34726efb"
      },
      "execution_count": 32,
      "outputs": [
        {
          "output_type": "stream",
          "name": "stdout",
          "text": [
            "34\n",
            "Tom\n",
            "34 Tom\n"
          ]
        }
      ]
    },
    {
      "cell_type": "code",
      "source": [
        ""
      ],
      "metadata": {
        "id": "8yeFPgIGZiWL"
      },
      "execution_count": 36,
      "outputs": []
    }
  ]
}