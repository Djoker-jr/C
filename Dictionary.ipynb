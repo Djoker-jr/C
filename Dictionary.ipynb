{
  "nbformat": 4,
  "nbformat_minor": 0,
  "metadata": {
    "colab": {
      "name": "Dictionary.ipynb",
      "provenance": [],
      "authorship_tag": "ABX9TyO7/6qM1RViSA6e/GZtYhKF",
      "include_colab_link": true
    },
    "kernelspec": {
      "name": "python3",
      "display_name": "Python 3"
    },
    "language_info": {
      "name": "python"
    }
  },
  "cells": [
    {
      "cell_type": "markdown",
      "metadata": {
        "id": "view-in-github",
        "colab_type": "text"
      },
      "source": [
        "<a href=\"https://colab.research.google.com/github/G-Vangala/C/blob/main/Dictionary.ipynb\" target=\"_parent\"><img src=\"https://colab.research.google.com/assets/colab-badge.svg\" alt=\"Open In Colab\"/></a>"
      ]
    },
    {
      "cell_type": "markdown",
      "source": [
        "Dict"
      ],
      "metadata": {
        "id": "gOIIjibdCkQ-"
      }
    },
    {
      "cell_type": "code",
      "execution_count": 6,
      "metadata": {
        "colab": {
          "base_uri": "https://localhost:8080/"
        },
        "id": "YS-6-L4nCP0P",
        "outputId": "3bc3e04a-bff2-4c07-fead-b792c8eab35f"
      },
      "outputs": [
        {
          "output_type": "stream",
          "name": "stdout",
          "text": [
            "{'brand': 'Aston Martin', 'model': 'DB5', 'Year': '1965', 'color': 'Grey'}\n",
            "<class 'dict'>\n",
            "4\n",
            "Aston Martin\n",
            "1965\n"
          ]
        }
      ],
      "source": [
        "cars= {\n",
        "    \"brand\": \"Aston Martin\",\n",
        "    \"model\": \"DB5\",\n",
        "    \"Year\": \"1965\",\n",
        "    \"color\": \"Grey\"\n",
        "}\n",
        "print(cars)\n",
        "print(type(cars))\n",
        "print(len(cars))\n",
        "print(cars[\"brand\"])\n",
        "print(cars[\"Year\"])"
      ]
    },
    {
      "cell_type": "markdown",
      "source": [
        "Access items"
      ],
      "metadata": {
        "id": "W7M3VBRGEF22"
      }
    },
    {
      "cell_type": "code",
      "source": [
        "cars= {\n",
        "    \"brand\": \"BMW\",\n",
        "    \"model\": \"330i\",\n",
        "    \"Year\": \"2020\",\n",
        "    \"color\": [\"Blue\", \"Black\"]\n",
        "}\n",
        "x=cars.get(\"brand\")\n",
        "y=cars.get(\"model\")\n",
        "print(x)\n",
        "print(y)\n",
        "print(cars[\"Year\"])\n",
        "print(cars[\"color\"])"
      ],
      "metadata": {
        "colab": {
          "base_uri": "https://localhost:8080/"
        },
        "id": "3bVZE3tfEH4J",
        "outputId": "e88dbf95-6dcb-4cc5-8fbb-673ae8f0e0eb"
      },
      "execution_count": 14,
      "outputs": [
        {
          "output_type": "stream",
          "name": "stdout",
          "text": [
            "BMW\n",
            "330i\n",
            "2020\n",
            "['Blue', 'Black']\n"
          ]
        }
      ]
    },
    {
      "cell_type": "markdown",
      "source": [
        "Keys,values and changing values"
      ],
      "metadata": {
        "id": "OeJYvZrBGTtV"
      }
    },
    {
      "cell_type": "code",
      "source": [
        "cars= {\n",
        "    \"brand\": \"BMW\",\n",
        "    \"model\": \"330i\",\n",
        "    \"Year\": \"2020\",\n",
        "    \"color\": [\"Blue\", \"Black\"]\n",
        "}\n",
        "print(cars.keys())\n",
        "print(cars.values())\n",
        "cars[\"Year\"]= 2021\n",
        "print(cars.values())\n",
        "print(cars.items())"
      ],
      "metadata": {
        "colab": {
          "base_uri": "https://localhost:8080/"
        },
        "id": "yQF8h2EnGU68",
        "outputId": "9a5efebc-c835-4610-f188-4bbdfbccd284"
      },
      "execution_count": 20,
      "outputs": [
        {
          "output_type": "stream",
          "name": "stdout",
          "text": [
            "dict_keys(['brand', 'model', 'Year', 'color'])\n",
            "dict_values(['BMW', '330i', '2020', ['Blue', 'Black']])\n",
            "dict_values(['BMW', '330i', 2021, ['Blue', 'Black']])\n",
            "dict_items([('brand', 'BMW'), ('model', '330i'), ('Year', 2021), ('color', ['Blue', 'Black'])])\n"
          ]
        }
      ]
    },
    {
      "cell_type": "markdown",
      "source": [
        "Check"
      ],
      "metadata": {
        "id": "tOHBH6b7HRcF"
      }
    },
    {
      "cell_type": "code",
      "source": [
        "cars= {\n",
        "    \"brand\": \"BMW\",\n",
        "    \"model\": \"330i\",\n",
        "    \"Year\": \"2020\",\n",
        "    \"color\": [\"Blue\", \"Black\"]\n",
        "}\n",
        "if \"brand\" in cars:\n",
        "  print(cars[\"brand\"] + \" exists.\")"
      ],
      "metadata": {
        "colab": {
          "base_uri": "https://localhost:8080/"
        },
        "id": "Yum0-WUsHTBL",
        "outputId": "bdd634d5-4565-4b07-f5e4-ce26a4725537"
      },
      "execution_count": 22,
      "outputs": [
        {
          "output_type": "stream",
          "name": "stdout",
          "text": [
            "BMW exists.\n"
          ]
        }
      ]
    },
    {
      "cell_type": "markdown",
      "source": [
        "Update"
      ],
      "metadata": {
        "id": "eMiu6ohaIDJD"
      }
    },
    {
      "cell_type": "code",
      "source": [
        "cars= {\n",
        "    \"brand\": \"BMW\",\n",
        "    \"model\": \"330i\",\n",
        "    \"Year\": \"2020\",\n",
        "    \"color\": [\"Blue\", \"Black\"]\n",
        "}\n",
        "cars.update({\"Year\" : 2021})\n",
        "print(cars)"
      ],
      "metadata": {
        "colab": {
          "base_uri": "https://localhost:8080/"
        },
        "id": "34I1noexIEnD",
        "outputId": "3ae49cb6-8b27-4069-a91d-10a99d83a867"
      },
      "execution_count": 23,
      "outputs": [
        {
          "output_type": "stream",
          "name": "stdout",
          "text": [
            "{'brand': 'BMW', 'model': '330i', 'Year': 2021, 'color': ['Blue', 'Black']}\n"
          ]
        }
      ]
    },
    {
      "cell_type": "markdown",
      "source": [
        "Add items"
      ],
      "metadata": {
        "id": "A2Ycyz9BInFb"
      }
    },
    {
      "cell_type": "code",
      "source": [
        "cars= {\n",
        "    \"brand\": \"BMW\",\n",
        "    \"model\": \"330i\",\n",
        "    \"Year\": \"2020\",\n",
        "    \"color\": [\"Blue\", \"Black\"]\n",
        "}\n",
        "cars[\"feature\"] = \"Hand Gesture\"\n",
        "print(cars)"
      ],
      "metadata": {
        "colab": {
          "base_uri": "https://localhost:8080/"
        },
        "id": "fzM35_5sIrOK",
        "outputId": "98a692a5-3b45-4fac-9adb-6dc76a11b2ab"
      },
      "execution_count": 24,
      "outputs": [
        {
          "output_type": "stream",
          "name": "stdout",
          "text": [
            "{'brand': 'BMW', 'model': '330i', 'Year': '2020', 'color': ['Blue', 'Black'], 'feature': 'Hand Gesture'}\n"
          ]
        }
      ]
    },
    {
      "cell_type": "markdown",
      "source": [
        "Remove items"
      ],
      "metadata": {
        "id": "TkYbQOVJJASa"
      }
    },
    {
      "cell_type": "code",
      "source": [
        "cars= {\n",
        "    \"brand\": \"BMW\",\n",
        "    \"model\": \"330i\",\n",
        "    \"Year\": \"2020\",\n",
        "    \"color\": [\"Blue\", \"Black\"]\n",
        "}\n",
        "cars.pop(\"Year\")\n",
        "print(cars)\n",
        "del cars[\"color\"]\n",
        "print(cars)\n",
        "cars.clear()\n",
        "print(cars)"
      ],
      "metadata": {
        "colab": {
          "base_uri": "https://localhost:8080/"
        },
        "id": "wUFeQds4JB1R",
        "outputId": "15492345-3754-462f-d504-3eeeb66a7e29"
      },
      "execution_count": 27,
      "outputs": [
        {
          "output_type": "stream",
          "name": "stdout",
          "text": [
            "{'brand': 'BMW', 'model': '330i', 'color': ['Blue', 'Black']}\n",
            "{'brand': 'BMW', 'model': '330i'}\n",
            "{}\n"
          ]
        }
      ]
    },
    {
      "cell_type": "markdown",
      "source": [
        "Loops"
      ],
      "metadata": {
        "id": "V9orb2HGK6gL"
      }
    },
    {
      "cell_type": "code",
      "source": [
        "cars= {\n",
        "    \"brand\": \"BMW\",\n",
        "    \"model\": \"330i\",\n",
        "    \"Year\": \"2020\",\n",
        "    \"color\": [\"Blue\", \"Black\"]\n",
        "}\n",
        "for x in cars:\n",
        "  print(x)\n",
        "  print(cars[x])"
      ],
      "metadata": {
        "colab": {
          "base_uri": "https://localhost:8080/"
        },
        "id": "4sAPcusTK7-5",
        "outputId": "9598d15b-285a-486d-ad4e-75ce44c6c48c"
      },
      "execution_count": 29,
      "outputs": [
        {
          "output_type": "stream",
          "name": "stdout",
          "text": [
            "brand\n",
            "BMW\n",
            "model\n",
            "330i\n",
            "Year\n",
            "2020\n",
            "color\n",
            "['Blue', 'Black']\n"
          ]
        }
      ]
    }
  ]
}