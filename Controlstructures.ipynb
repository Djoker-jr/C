{
  "nbformat": 4,
  "nbformat_minor": 0,
  "metadata": {
    "colab": {
      "name": "Controlstructures.ipynb",
      "provenance": [],
      "authorship_tag": "ABX9TyMDhkDyXtmlvUkeLhzp/Ccx",
      "include_colab_link": true
    },
    "kernelspec": {
      "name": "python3",
      "display_name": "Python 3"
    },
    "language_info": {
      "name": "python"
    }
  },
  "cells": [
    {
      "cell_type": "markdown",
      "metadata": {
        "id": "view-in-github",
        "colab_type": "text"
      },
      "source": [
        "<a href=\"https://colab.research.google.com/github/G-Vangala/C/blob/main/Controlstructures.ipynb\" target=\"_parent\"><img src=\"https://colab.research.google.com/assets/colab-badge.svg\" alt=\"Open In Colab\"/></a>"
      ]
    },
    {
      "cell_type": "code",
      "execution_count": 2,
      "metadata": {
        "colab": {
          "base_uri": "https://localhost:8080/"
        },
        "id": "LK1-RfSJPksv",
        "outputId": "6aa95f38-c252-4224-8775-9d8ddaba5146"
      },
      "outputs": [
        {
          "output_type": "stream",
          "name": "stdout",
          "text": [
            "3\n",
            "Not elibible\n"
          ]
        }
      ],
      "source": [
        "#Q. Find if the person is eligible for voting or not.\n",
        "a=int(input())\n",
        "#If the value is mentioned-it is static.\n",
        "if a>=18:\n",
        "  print(\"Eligible\")\n",
        "else:\n",
        "  print(\"Not elibible\")"
      ]
    },
    {
      "cell_type": "markdown",
      "source": [
        "Q.Find max of 3 numbers."
      ],
      "metadata": {
        "id": "fulZspKEXk6v"
      }
    },
    {
      "cell_type": "code",
      "source": [
        "a=int(input())\n",
        "b=int(input())\n",
        "c=int(input())\n",
        "if a>b and a>c:\n",
        "  print(\"a is max\")\n",
        "elif b>a and b>c:\n",
        "  print(\"b is max\")\n",
        "else:\n",
        "  print(\"c is max\")"
      ],
      "metadata": {
        "colab": {
          "base_uri": "https://localhost:8080/"
        },
        "id": "LpxcK_4KRx_J",
        "outputId": "f71b01cc-d725-491f-94d2-042009e9784f"
      },
      "execution_count": 3,
      "outputs": [
        {
          "output_type": "stream",
          "name": "stdout",
          "text": [
            "2\n",
            "7\n",
            "4\n",
            "b is max\n"
          ]
        }
      ]
    },
    {
      "cell_type": "markdown",
      "source": [
        "Q.Highest of the marks of 5 subjects."
      ],
      "metadata": {
        "id": "j89Ps_SYXsyJ"
      }
    },
    {
      "cell_type": "code",
      "source": [
        "m1=int(input())\n",
        "m2=int(input())\n",
        "m3=int(input())\n",
        "m4=int(input())\n",
        "m5=int(input())\n",
        "if m1>m2 and m1>m3 and m1>m4 and m1>m5:\n",
        "  print(\"m1 is highest\")\n",
        "elif m2>m1 and m2>m3 and m2>m4 and m2>m5:\n",
        "  print(\"m2 is highest\")\n",
        "elif m3>m1 and m3>m2 and m3>m4 and m3>m5:\n",
        "  print(\"m3 is highest\")\n",
        "elif m4>m1 and m4>m3 and m4>m2 and m4>m5:\n",
        "  print(\"m4 is highest\")\n",
        "else:\n",
        "  print(\"m5 is highest\")"
      ],
      "metadata": {
        "colab": {
          "base_uri": "https://localhost:8080/"
        },
        "id": "kmaLNe2kTS5Z",
        "outputId": "af29b74e-2b9f-452f-d0c3-91699fe2460b"
      },
      "execution_count": 6,
      "outputs": [
        {
          "output_type": "stream",
          "name": "stdout",
          "text": [
            "5\n",
            "88\n",
            "6\n",
            "44\n",
            "98\n",
            "m5 is highest\n"
          ]
        }
      ]
    },
    {
      "cell_type": "markdown",
      "source": [
        "Q. Type of triangles."
      ],
      "metadata": {
        "id": "M2LHkLvwXzbh"
      }
    },
    {
      "cell_type": "code",
      "source": [
        "a=int(input())\n",
        "b=int(input())\n",
        "c=int(input())\n",
        "if a==b and a==c and b==c:\n",
        "  print(\"Equilateral triangle\")\n",
        "elif a==b or a==c or b==c:\n",
        "  print(\"Isosceles triangle\")\n",
        "else:\n",
        "  print(\"Scalene triangle\")"
      ],
      "metadata": {
        "colab": {
          "base_uri": "https://localhost:8080/"
        },
        "id": "k9OcWx_IWBhZ",
        "outputId": "72abe1be-2d99-4b73-a6f2-e7676e80b559"
      },
      "execution_count": 10,
      "outputs": [
        {
          "output_type": "stream",
          "name": "stdout",
          "text": [
            "9\n",
            "4\n",
            "7\n",
            "Scalene triangle\n"
          ]
        }
      ]
    },
    {
      "cell_type": "markdown",
      "source": [
        "Q.Leap yr or not."
      ],
      "metadata": {
        "id": "tIrlEnJJX6dp"
      }
    },
    {
      "cell_type": "code",
      "source": [
        "yr=int(input())\n",
        "if yr%4==0 and ((yr%400==0)or(yr%100!=0)):\n",
        "  print(\"Leap yr\")\n",
        "else:\n",
        "  print(\"Not a leap yr\")"
      ],
      "metadata": {
        "colab": {
          "base_uri": "https://localhost:8080/"
        },
        "id": "kOE-ti9EW-LB",
        "outputId": "5510541d-1804-4ede-b9d6-c604f962815d"
      },
      "execution_count": 11,
      "outputs": [
        {
          "output_type": "stream",
          "name": "stdout",
          "text": [
            "1990\n",
            "Not a leap yr\n"
          ]
        }
      ]
    },
    {
      "cell_type": "markdown",
      "source": [
        "Q.Minimum of 3 numbers."
      ],
      "metadata": {
        "id": "7rIewKYJYrKx"
      }
    },
    {
      "cell_type": "code",
      "source": [
        "a=int(input())\n",
        "b=int(input())\n",
        "c=int(input())\n",
        "if a<b and a<c:\n",
        "  print(\"a is smallest\")\n",
        "elif b<a and b<c:\n",
        "  print(\"b is smallest\")\n",
        "else:\n",
        "  print(\"c is smallest\")"
      ],
      "metadata": {
        "colab": {
          "base_uri": "https://localhost:8080/"
        },
        "id": "sH3d3pVpYwEI",
        "outputId": "ec3ee0f3-41d2-468f-9a9d-050348f6eda3"
      },
      "execution_count": 12,
      "outputs": [
        {
          "output_type": "stream",
          "name": "stdout",
          "text": [
            "6\n",
            "77\n",
            "67\n",
            "a is smallest\n"
          ]
        }
      ]
    },
    {
      "cell_type": "markdown",
      "source": [
        "Q.Divisible by 5 and 11"
      ],
      "metadata": {
        "id": "ILtccfkeZMtA"
      }
    },
    {
      "cell_type": "code",
      "source": [
        "n=int(input())\n",
        "if n%5==0 and n%11==0:\n",
        "  n=str(n)\n",
        "  print(n + \" is divisible by 5 and 11\")\n",
        "else:\n",
        "  n=str(n)\n",
        "  print(n + \" is not divisible by 5 and 11\")"
      ],
      "metadata": {
        "colab": {
          "base_uri": "https://localhost:8080/"
        },
        "id": "kiTE6PgQZSGg",
        "outputId": "b5034aec-afe7-4ebc-c2b0-e526d1682b40"
      },
      "execution_count": 17,
      "outputs": [
        {
          "output_type": "stream",
          "name": "stdout",
          "text": [
            "55\n",
            "55 is divisible by 5 and 11\n"
          ]
        }
      ]
    },
    {
      "cell_type": "markdown",
      "source": [
        "Q. Roots of a quadratic equation."
      ],
      "metadata": {
        "id": "88j6AVLFbTtx"
      }
    },
    {
      "cell_type": "code",
      "source": [
        "import math\n",
        "a=input()\n",
        "b=input()\n",
        "c=input()\n",
        "print(a + \"x^2+\" + b + \"x+\" + c + \"=0\")\n",
        "dis=math.sqrt((b*b)-(4*a*c))"
      ],
      "metadata": {
        "colab": {
          "base_uri": "https://localhost:8080/",
          "height": 269
        },
        "id": "PrxywlC9bY4Z",
        "outputId": "618f4404-b0c5-4a40-ec31-020e8428e25b"
      },
      "execution_count": 21,
      "outputs": [
        {
          "output_type": "stream",
          "name": "stdout",
          "text": [
            "1\n",
            "25\n",
            "5\n",
            "1x^2+25x+5=0\n"
          ]
        },
        {
          "output_type": "error",
          "ename": "TypeError",
          "evalue": "ignored",
          "traceback": [
            "\u001b[0;31m---------------------------------------------------------------------------\u001b[0m",
            "\u001b[0;31mTypeError\u001b[0m                                 Traceback (most recent call last)",
            "\u001b[0;32m<ipython-input-21-5f919f24d323>\u001b[0m in \u001b[0;36m<module>\u001b[0;34m()\u001b[0m\n\u001b[1;32m      4\u001b[0m \u001b[0mc\u001b[0m\u001b[0;34m=\u001b[0m\u001b[0minput\u001b[0m\u001b[0;34m(\u001b[0m\u001b[0;34m)\u001b[0m\u001b[0;34m\u001b[0m\u001b[0;34m\u001b[0m\u001b[0m\n\u001b[1;32m      5\u001b[0m \u001b[0mprint\u001b[0m\u001b[0;34m(\u001b[0m\u001b[0ma\u001b[0m \u001b[0;34m+\u001b[0m \u001b[0;34m\"x^2+\"\u001b[0m \u001b[0;34m+\u001b[0m \u001b[0mb\u001b[0m \u001b[0;34m+\u001b[0m \u001b[0;34m\"x+\"\u001b[0m \u001b[0;34m+\u001b[0m \u001b[0mc\u001b[0m \u001b[0;34m+\u001b[0m \u001b[0;34m\"=0\"\u001b[0m\u001b[0;34m)\u001b[0m\u001b[0;34m\u001b[0m\u001b[0;34m\u001b[0m\u001b[0m\n\u001b[0;32m----> 6\u001b[0;31m \u001b[0mdis\u001b[0m\u001b[0;34m=\u001b[0m\u001b[0mmath\u001b[0m\u001b[0;34m.\u001b[0m\u001b[0msqrt\u001b[0m\u001b[0;34m(\u001b[0m\u001b[0;34m(\u001b[0m\u001b[0mb\u001b[0m\u001b[0;34m*\u001b[0m\u001b[0mb\u001b[0m\u001b[0;34m)\u001b[0m\u001b[0;34m-\u001b[0m\u001b[0;34m(\u001b[0m\u001b[0;36m4\u001b[0m\u001b[0;34m*\u001b[0m\u001b[0ma\u001b[0m\u001b[0;34m*\u001b[0m\u001b[0mc\u001b[0m\u001b[0;34m)\u001b[0m\u001b[0;34m)\u001b[0m\u001b[0;34m\u001b[0m\u001b[0;34m\u001b[0m\u001b[0m\n\u001b[0m",
            "\u001b[0;31mTypeError\u001b[0m: can't multiply sequence by non-int of type 'str'"
          ]
        }
      ]
    }
  ]
}