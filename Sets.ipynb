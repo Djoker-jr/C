{
  "nbformat": 4,
  "nbformat_minor": 0,
  "metadata": {
    "colab": {
      "name": "Sets.ipynb",
      "provenance": [],
      "authorship_tag": "ABX9TyNUR926+TJheEkBtHwCz4tB",
      "include_colab_link": true
    },
    "kernelspec": {
      "name": "python3",
      "display_name": "Python 3"
    },
    "language_info": {
      "name": "python"
    }
  },
  "cells": [
    {
      "cell_type": "markdown",
      "metadata": {
        "id": "view-in-github",
        "colab_type": "text"
      },
      "source": [
        "<a href=\"https://colab.research.google.com/github/G-Vangala/C/blob/main/Sets.ipynb\" target=\"_parent\"><img src=\"https://colab.research.google.com/assets/colab-badge.svg\" alt=\"Open In Colab\"/></a>"
      ]
    },
    {
      "cell_type": "markdown",
      "source": [
        "Sets"
      ],
      "metadata": {
        "id": "on7RKGGq0YXH"
      }
    },
    {
      "cell_type": "code",
      "source": [
        "Bats={\"West\",\"Conroy\",\"Keaton\",\"Kilmer\",\"Clooney\",\"Bale\",\"Affleck\",\"Pattinson\"}\n",
        "print(Bats)\n",
        "print(len(Bats))\n",
        "print(type(Bats))\n",
        "print(\"Hamill\" in Bats)"
      ],
      "metadata": {
        "colab": {
          "base_uri": "https://localhost:8080/"
        },
        "id": "n7Q96bDg0dYO",
        "outputId": "5758f9d3-88e6-4aec-e5e6-37951a75c4dc"
      },
      "execution_count": 7,
      "outputs": [
        {
          "output_type": "stream",
          "name": "stdout",
          "text": [
            "{'Clooney', 'Affleck', 'Kilmer', 'Conroy', 'Keaton', 'West', 'Bale', 'Reeves', 'Pattinson'}\n",
            "9\n",
            "<class 'set'>\n",
            "False\n"
          ]
        }
      ]
    },
    {
      "cell_type": "markdown",
      "source": [
        "Loop"
      ],
      "metadata": {
        "id": "nM76UN8F2dWX"
      }
    },
    {
      "cell_type": "code",
      "source": [
        "Bats={\"West\",\"Conroy\",\"Keaton\",\"Kilmer\",\"Clooney\",\"Bale\",\"Affleck\",\"Pattinson\"}\n",
        "for actor in Bats:\n",
        "  print(actor)"
      ],
      "metadata": {
        "colab": {
          "base_uri": "https://localhost:8080/"
        },
        "id": "DUI9uS902fB-",
        "outputId": "f7d21844-9c9f-4366-ad3a-c1a06e0d17df"
      },
      "execution_count": 5,
      "outputs": [
        {
          "output_type": "stream",
          "name": "stdout",
          "text": [
            "Clooney\n",
            "Affleck\n",
            "Kilmer\n",
            "Conroy\n",
            "Keaton\n",
            "West\n",
            "Bale\n",
            "Reeves\n",
            "Pattinson\n"
          ]
        }
      ]
    },
    {
      "cell_type": "markdown",
      "source": [
        "Add"
      ],
      "metadata": {
        "id": "QYupSHP53Iue"
      }
    },
    {
      "cell_type": "code",
      "source": [
        "Bats={\"Keaton\",\"Kilmer\",\"Clooney\",\"Bale\",\"Affleck\",\"Pattinson\"}\n",
        "Bats2={\"Conroy\",\"Ackles\",\"Reeves\"}\n",
        "Bats.add(\"West\")\n",
        "print(Bats)\n",
        "Bats.update(Bats2)\n",
        "print(Bats)"
      ],
      "metadata": {
        "colab": {
          "base_uri": "https://localhost:8080/"
        },
        "id": "tMavMRoH3KB-",
        "outputId": "eb1d6271-9cd1-4148-a4f5-5130201f3933"
      },
      "execution_count": 9,
      "outputs": [
        {
          "output_type": "stream",
          "name": "stdout",
          "text": [
            "{'Clooney', 'Affleck', 'Kilmer', 'Keaton', 'West', 'Bale', 'Pattinson'}\n",
            "{'Clooney', 'Affleck', 'Kilmer', 'Conroy', 'Keaton', 'West', 'Bale', 'Ackles', 'Reeves', 'Pattinson'}\n"
          ]
        }
      ]
    },
    {
      "cell_type": "markdown",
      "source": [
        "Remove"
      ],
      "metadata": {
        "id": "xJadNLmJ3_0J"
      }
    },
    {
      "cell_type": "code",
      "source": [
        "Bats={\"West\",\"Conroy\",\"Keaton\",\"Kilmer\",\"Clooney\",\"Bale\",\"Affleck\",\"Pattinson\",\"Reeves\"}\n",
        "Bats.remove(\"Reeves\")\n",
        "print(Bats)\n",
        "x=Bats.pop()\n",
        "print(Bats)"
      ],
      "metadata": {
        "colab": {
          "base_uri": "https://localhost:8080/"
        },
        "id": "zRYqGPBh4DoW",
        "outputId": "750da84d-7cbf-4af9-e9b3-09c1fe5448a4"
      },
      "execution_count": 12,
      "outputs": [
        {
          "output_type": "stream",
          "name": "stdout",
          "text": [
            "{'Clooney', 'Affleck', 'Kilmer', 'Conroy', 'Keaton', 'West', 'Bale', 'Pattinson'}\n",
            "{'Affleck', 'Kilmer', 'Conroy', 'Keaton', 'West', 'Bale', 'Pattinson'}\n"
          ]
        }
      ]
    }
  ]
}